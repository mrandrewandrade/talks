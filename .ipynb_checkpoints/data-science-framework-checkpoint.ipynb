{
 "cells": [
  {
   "cell_type": "markdown",
   "metadata": {
    "slideshow": {
     "slide_type": "slide"
    }
   },
   "source": [
    "\n",
    "\n",
    "<style>\n",
    "\n",
    "@font-face {\n",
    "    font-family: \"Computer Modern\";\n",
    "    src: url('http://mirrors.ctan.org/fonts/cm-unicode/fonts/otf/cmunss.otf');\n",
    "}\n",
    "#notebook_panel { /* main background */\n",
    "    background: #888;\n",
    "    color: #f6f6f6;\n",
    "}\n",
    "#notebook li { /* More space between bullet points */\n",
    "margin-top:0.8em;\n",
    "}\n",
    "div.text_cell_render{\n",
    "    font-family: 'Arvo' sans-serif;\n",
    "    line-height: 110%;\n",
    "    font-size: 135%;\n",
    "    width:1000px;\n",
    "    margin-left:auto;\n",
    "    margin-right:auto;\n",
    "}\n",
    "\n",
    "</style>\n",
    "\n",
    "\n",
    "<center>\n",
    "\n",
    "<p class=\"gap05\"<p>\n",
    "<h1>Data Science Framework and Machine Learning 101</h1>\n",
    "\n",
    "<p class=\"gap05\"<p>\n",
    "\n",
    "<h4> andrewandrade.ca/talks/data-science-framework</h4>\n",
    "\n",
    "\n",
    "<h4>Stats Club and Data Science Club</h4>\n",
    "\n",
    "<p class=\"gap2\"<p>\n",
    "\n",
    "\n",
    "<h4> June 2, 2016 </h4>\n",
    "\n",
    "\n",
    "</center>\n",
    "\n",
    "<style type=\"text/css\">\n",
    ".input_prompt, .input_area, .output_prompt {\n",
    "    display:none !important;\n",
    "}\n",
    "</style>\n",
    "\n"
   ]
  },
  {
   "cell_type": "markdown",
   "metadata": {
    "collapsed": false,
    "slideshow": {
     "slide_type": "subslide"
    }
   },
   "source": [
    "# Why?\n",
    "\n",
    "![alt text](http://i.stack.imgur.com/mlhO9.jpg)\n",
    "\n",
    "\n"
   ]
  },
  {
   "cell_type": "markdown",
   "metadata": {
    "slideshow": {
     "slide_type": "fragment"
    }
   },
   "source": [
    "Let's not jump to big data before we work on some data!\n"
   ]
  },
  {
   "cell_type": "markdown",
   "metadata": {
    "slideshow": {
     "slide_type": "fragment"
    }
   },
   "source": [
    "Let's not jump to neural networks before we work on logistic regression!\n"
   ]
  },
  {
   "cell_type": "markdown",
   "metadata": {
    "slideshow": {
     "slide_type": "fragment"
    }
   },
   "source": [
    "Let's not jump to random forest before we work on a decision tree!"
   ]
  },
  {
   "cell_type": "markdown",
   "metadata": {
    "slideshow": {
     "slide_type": "subslide"
    }
   },
   "source": [
    "# Goals of Talk"
   ]
  },
  {
   "cell_type": "markdown",
   "metadata": {
    "slideshow": {
     "slide_type": "fragment"
    }
   },
   "source": [
    "1/ How to Think Like a Data Scientist"
   ]
  },
  {
   "cell_type": "markdown",
   "metadata": {
    "slideshow": {
     "slide_type": "fragment"
    }
   },
   "source": [
    "2/ Learn Structured Data Science Framework"
   ]
  },
  {
   "cell_type": "markdown",
   "metadata": {
    "slideshow": {
     "slide_type": "fragment"
    }
   },
   "source": [
    "3/ Learn Basics of Machine Learning and Data Mining"
   ]
  },
  {
   "cell_type": "markdown",
   "metadata": {
    "slideshow": {
     "slide_type": "slide"
    }
   },
   "source": [
    "# About Andrew Andrade\n",
    "\n",
    "## University of Waterloo\n",
    "**Mechatronics Engineering**\n",
    "\n",
    "Management Science Option\n",
    "\n",
    "## Co-op experience:\n",
    "- Start-ups in oil and gas and semiconductor\n",
    "- Chrysler, PetroCanada (Suncor), Facebook\n",
    "- PetroPredict"
   ]
  },
  {
   "cell_type": "markdown",
   "metadata": {
    "slideshow": {
     "slide_type": "subslide"
    }
   },
   "source": [
    "# About Andrew Andrade\n",
    "\n",
    "## Research:\n",
    "Applications of Data Mining and Intelligence Amplification:\n",
    "\n",
    "- Self-driving Vehicles\n",
    "- Production Optimization\n",
    "- Hardware and Manufacturing\n",
    "- Educational Data Mining\n"
   ]
  },
  {
   "cell_type": "markdown",
   "metadata": {
    "slideshow": {
     "slide_type": "slide"
    }
   },
   "source": [
    "# What is Data Science?\n",
    "\n",
    "![](http://b-i.forbesimg.com/gilpress/files/2013/05/Data_Science_VD.png)\n",
    "\n",
    "Source: [Drew Conway](http://drewconway.com)\n"
   ]
  },
  {
   "cell_type": "markdown",
   "metadata": {
    "slideshow": {
     "slide_type": "subslide"
    }
   },
   "source": [
    "\n",
    "# Data Science Role\n",
    "\n",
    "![](http://i2.wp.com/blog.udacity.com/wp-content/uploads/2014/11/blog_dataChart_white.png?resize=640%2C740)\n",
    "\n",
    "Source: [Udacity](http://blog.udacity.com/2014/11/data-science-job-skills.html)\n",
    "\n",
    "\n"
   ]
  },
  {
   "cell_type": "markdown",
   "metadata": {
    "slideshow": {
     "slide_type": "slide"
    }
   },
   "source": [
    "# What is Data Science\n",
    "\n",
    "(to Andrew Andrade)\n",
    "\n",
    "\n",
    "Combination of deductive (hypothesis-based) and inductive (pattern-based) reasoning.\n",
    "\n"
   ]
  },
  {
   "cell_type": "markdown",
   "metadata": {
    "slideshow": {
     "slide_type": "subslide"
    }
   },
   "source": [
    "# Bottom up approach\n",
    "\n",
    "Deductive (hypothesis-based) using Scientific Principles\n",
    "\n",
    "## Eg. Falling Ball\n",
    "\n",
    "![](https://www.researchgate.net/profile/Mark_Nagurka/publication/228575622/figure/fig3/AS:301980833599495@1449009249977/Fig-3-Free-body-diagram-of-falling-ball-showing-body-buoyancy-and-aerodynamic-forces.png)"
   ]
  },
  {
   "cell_type": "markdown",
   "metadata": {
    "slideshow": {
     "slide_type": "subslide"
    }
   },
   "source": [
    "# Top Down approach\n",
    "\n",
    "Inductive (pattern-based) reasoning using data\n",
    "\n",
    "## Eg. Partical Filter with Falling Ball\n",
    "\n",
    "![](https://www.anuncommonlab.com/articles/how-kalman-filters-work/img/particle_demo_01.png)\n",
    "\n",
    "\n",
    "\n"
   ]
  },
  {
   "cell_type": "markdown",
   "metadata": {
    "slideshow": {
     "slide_type": "subslide"
    }
   },
   "source": [
    "![](https://www.anuncommonlab.com/articles/how-kalman-filters-work/img/particle_demo_02.png)"
   ]
  },
  {
   "cell_type": "markdown",
   "metadata": {
    "slideshow": {
     "slide_type": "subslide"
    }
   },
   "source": [
    "![](https://www.anuncommonlab.com/articles/how-kalman-filters-work/img/particle_demo_03.png)"
   ]
  },
  {
   "cell_type": "markdown",
   "metadata": {
    "slideshow": {
     "slide_type": "subslide"
    }
   },
   "source": [
    "![](https://www.anuncommonlab.com/articles/how-kalman-filters-work/img/particle_demo_07.png)"
   ]
  },
  {
   "cell_type": "markdown",
   "metadata": {
    "slideshow": {
     "slide_type": "subslide"
    }
   },
   "source": [
    "\n",
    "\n",
    "## Eg. Darcy's Law in Oil and Gas\n",
    "\n",
    "![](https://bae.okstate.edu/faculty-sites/Darcy/LaLoi/figure1.jpg)\n",
    "\n"
   ]
  },
  {
   "cell_type": "markdown",
   "metadata": {
    "slideshow": {
     "slide_type": "fragment"
    }
   },
   "source": [
    "## Reservoir Simulation Model \n",
    "![](http://www.math.pitt.edu/~yotov/research/talks/integrated/coilgg.gif)"
   ]
  },
  {
   "cell_type": "markdown",
   "metadata": {
    "slideshow": {
     "slide_type": "subslide"
    }
   },
   "source": [
    "\n",
    "\n",
    "## Surrogate Reservoir Model\n",
    "\n",
    "\n",
    "\n",
    "![](http://www.intelligentsolutionsinc.com/Workflows/figs/WF-SimModel-Figure01.png)"
   ]
  },
  {
   "cell_type": "markdown",
   "metadata": {
    "slideshow": {
     "slide_type": "slide"
    }
   },
   "source": [
    "# Intelligence amplification\n",
    "\n",
    "\n",
    "The creation of the man-machine symbiosis\n",
    "\n",
    "![](http://i.imgur.com/yYC26PU.png)\n",
    "\n",
    "Source: Joe Lonsdale / Formation8"
   ]
  },
  {
   "cell_type": "markdown",
   "metadata": {
    "slideshow": {
     "slide_type": "subslide"
    }
   },
   "source": [
    "![](http://i.imgur.com/PURXSbQ.png)\n",
    "\n",
    "Source: Joe Lonsdale / Formation8"
   ]
  },
  {
   "cell_type": "markdown",
   "metadata": {
    "slideshow": {
     "slide_type": "subslide"
    }
   },
   "source": [
    "![](http://i.imgur.com/3NJc0w6.png)\n",
    "Source: Joe Lonsdale / Formation8\n"
   ]
  },
  {
   "cell_type": "markdown",
   "metadata": {
    "slideshow": {
     "slide_type": "subslide"
    }
   },
   "source": [
    "# What is Data Mining\n",
    "\n",
    "![](http://www.saedsayad.com/images/DM.png)\n"
   ]
  },
  {
   "cell_type": "markdown",
   "metadata": {
    "slideshow": {
     "slide_type": "fragment"
    }
   },
   "source": [
    "Explaining the past and predicting the future by means of data analysis\n"
   ]
  },
  {
   "cell_type": "markdown",
   "metadata": {
    "slideshow": {
     "slide_type": "slide"
    }
   },
   "source": [
    "# The Data Science Framework\n",
    "\n",
    "Ask > Acquire > Assimilate > Analyze > Answer > Advise > Act\n"
   ]
  },
  {
   "cell_type": "markdown",
   "metadata": {
    "slideshow": {
     "slide_type": "fragment"
    }
   },
   "source": [
    "__1 Ask__ : Start by being curious and asking the right questions"
   ]
  },
  {
   "cell_type": "markdown",
   "metadata": {
    "slideshow": {
     "slide_type": "fragment"
    }
   },
   "source": [
    "__2,3 Aquire and Assimilate__ : Collect data and make it useable"
   ]
  },
  {
   "cell_type": "markdown",
   "metadata": {
    "slideshow": {
     "slide_type": "fragment"
    }
   },
   "source": [
    "__4 Analyze__ : Learn from the data and get actional insights"
   ]
  },
  {
   "cell_type": "markdown",
   "metadata": {
    "slideshow": {
     "slide_type": "fragment"
    }
   },
   "source": [
    "__5 Answer__ : Take learnings and answer the question asked"
   ]
  },
  {
   "cell_type": "markdown",
   "metadata": {
    "slideshow": {
     "slide_type": "fragment"
    }
   },
   "source": [
    "__6 Advise__ : Optimize and make recommendations"
   ]
  },
  {
   "cell_type": "markdown",
   "metadata": {
    "slideshow": {
     "slide_type": "fragment"
    }
   },
   "source": [
    "__7 Act__ : Get your advice implemented!"
   ]
  },
  {
   "cell_type": "markdown",
   "metadata": {
    "slideshow": {
     "slide_type": "subslide"
    }
   },
   "source": [
    "![](http://i.imgur.com/pO8isZf.png)"
   ]
  },
  {
   "cell_type": "markdown",
   "metadata": {
    "slideshow": {
     "slide_type": "fragment"
    }
   },
   "source": [
    "![](http://i.imgur.com/4RjJ6de.png)"
   ]
  },
  {
   "cell_type": "markdown",
   "metadata": {
    "slideshow": {
     "slide_type": "subslide"
    }
   },
   "source": [
    "![](http://i.imgur.com/YnDlqkI.png)"
   ]
  },
  {
   "cell_type": "markdown",
   "metadata": {
    "slideshow": {
     "slide_type": "subslide"
    }
   },
   "source": [
    "![](http://i.imgur.com/ncOBzJN.png)"
   ]
  },
  {
   "cell_type": "markdown",
   "metadata": {
    "slideshow": {
     "slide_type": "fragment"
    }
   },
   "source": [
    "![](http://i.imgur.com/M82Up3o.png)"
   ]
  },
  {
   "cell_type": "markdown",
   "metadata": {
    "slideshow": {
     "slide_type": "slide"
    }
   },
   "source": [
    "**Ask** > \n",
    "\n",
    "Data Science starts by asking the right question"
   ]
  },
  {
   "cell_type": "markdown",
   "metadata": {
    "slideshow": {
     "slide_type": "fragment"
    }
   },
   "source": [
    "# 1.1 Asking the Right Question\n",
    "\n",
    "Find the biggest desperate need and start with tht!\n",
    "\n",
    "[beastar.uwaterloo.ca](http://beastar.uwaterloo.ca/)\n"
   ]
  },
  {
   "cell_type": "markdown",
   "metadata": {
    "slideshow": {
     "slide_type": "slide"
    }
   },
   "source": [
    "Ask > ___Acquire > Assimilate___\n",
    "\n",
    "# 2. and 3. Aquiring and Assimilating Data\n"
   ]
  },
  {
   "cell_type": "markdown",
   "metadata": {
    "slideshow": {
     "slide_type": "fragment"
    }
   },
   "source": [
    "1/ What data would be necessary?"
   ]
  },
  {
   "cell_type": "markdown",
   "metadata": {
    "slideshow": {
     "slide_type": "fragment"
    }
   },
   "source": [
    "2/ What data is available?"
   ]
  },
  {
   "cell_type": "markdown",
   "metadata": {
    "slideshow": {
     "slide_type": "fragment"
    }
   },
   "source": [
    "3/ What form is the data in?"
   ]
  },
  {
   "cell_type": "markdown",
   "metadata": {
    "slideshow": {
     "slide_type": "fragment"
    }
   },
   "source": [
    "4/ How to transform data?"
   ]
  },
  {
   "cell_type": "markdown",
   "metadata": {
    "slideshow": {
     "slide_type": "fragment"
    }
   },
   "source": [
    "5/ Visualize Data"
   ]
  },
  {
   "cell_type": "markdown",
   "metadata": {
    "slideshow": {
     "slide_type": "fragment"
    }
   },
   "source": [
    "6/ Analyse and Repeat"
   ]
  },
  {
   "cell_type": "markdown",
   "metadata": {
    "slideshow": {
     "slide_type": "subslide"
    }
   },
   "source": [
    "# 3.1 Feature Engineering\n",
    "\n",
    "What are the inputs used in a machine learning model?\n",
    "\n",
    "![](https://sciencesediment.files.wordpress.com/2012/02/vertical_table.jpg)\n",
    "\n"
   ]
  },
  {
   "cell_type": "markdown",
   "metadata": {},
   "source": [
    "![](https://docs.jboss.org/richfaces/latest_4_0_X/Component_Reference/en-US/html/images/figu-Component_Reference-Tables_and_grids-richextendedDataTable_example.png)\n",
    "\n",
    "![](http://sourcecodemania.com/wp-content/uploads/2012/06/adjacency-matrix-of-graph.jpg)\n",
    "\n",
    "![](http://gerardnico.com/wiki/_media/database/oracle/oracle_olap_aw_cube.jpg)"
   ]
  },
  {
   "cell_type": "markdown",
   "metadata": {
    "slideshow": {
     "slide_type": "subslide"
    }
   },
   "source": [
    "### Why is Feature Engineering Important?\n",
    "\n",
    "Coming up with features is difficult, time-consuming, requires expert knowledge.\n",
    "\n",
    "\"Applied machine learning\" is basically feature engineering.\n",
    "\n",
    "— Andrew Ng\n"
   ]
  },
  {
   "cell_type": "markdown",
   "metadata": {
    "slideshow": {
     "slide_type": "fragment"
    }
   },
   "source": [
    "…some machine learning projects succeed and some fail. What makes the difference? Easily the most important factor is the features used.\n",
    "\n",
    "— Pedro Domingos, in \"A Few Useful Things to Know about Machine Learning\""
   ]
  },
  {
   "cell_type": "markdown",
   "metadata": {
    "slideshow": {
     "slide_type": "subslide"
    }
   },
   "source": [
    "1. Better features means flexibility.\n",
    "2. Better features means simpler models.\n",
    "3. Better features means better results.\n"
   ]
  },
  {
   "cell_type": "markdown",
   "metadata": {
    "slideshow": {
     "slide_type": "subslide"
    }
   },
   "source": [
    "# Feature Engineering Example\n",
    "\n",
    "If you wanted to build a recommendation engine for vacation packages out of Malaysia, what features could you use?\n",
    "\n",
    "![](https://fshahim.files.wordpress.com/2013/06/airasia.gif)"
   ]
  },
  {
   "cell_type": "markdown",
   "metadata": {
    "slideshow": {
     "slide_type": "subslide"
    }
   },
   "source": [
    "# Garbage In, Garbage Out\n",
    "\n",
    "![](http://i.stack.imgur.com/yZQgZ.gif)\n",
    "\n",
    "\n"
   ]
  },
  {
   "cell_type": "markdown",
   "metadata": {},
   "source": [
    "Some Feature Engineering Techniques:\n",
    "- Filtering\n",
    "- Imputation\n",
    "- Dimensionality Reduction\n",
    "- Normilazation\n",
    "- Feature Extraction"
   ]
  },
  {
   "cell_type": "markdown",
   "metadata": {
    "slideshow": {
     "slide_type": "subslide"
    }
   },
   "source": [
    "Further Reading\n",
    "========================================================\n",
    "\n",
    "[Discover Feature Engineering, How to Engineer Features and How to Get Good at It](http://machinelearningmastery.com/discover-feature-engineering-how-to-engineer-features-and-how-to-get-good-at-it/)\n",
    "\n",
    "[Data selection, preparation, and modeling](http://www.innoarchitech.com/machine-learning-an-in-depth-non-technical-guide-part-2)\n",
    "\n"
   ]
  },
  {
   "cell_type": "markdown",
   "metadata": {
    "slideshow": {
     "slide_type": "slide"
    }
   },
   "source": [
    "Ask > Acquire > Assimilate > __Analyze__ \n",
    "\n",
    "# 4 Analyze"
   ]
  },
  {
   "cell_type": "markdown",
   "metadata": {
    "slideshow": {
     "slide_type": "fragment"
    }
   },
   "source": [
    "1/ Exploratory Data Analysis"
   ]
  },
  {
   "cell_type": "markdown",
   "metadata": {
    "slideshow": {
     "slide_type": "fragment"
    }
   },
   "source": [
    "2/ Unsupervised Machine Learning\n"
   ]
  },
  {
   "cell_type": "markdown",
   "metadata": {
    "slideshow": {
     "slide_type": "fragment"
    }
   },
   "source": [
    "3/ Supervised Machine Learning"
   ]
  },
  {
   "cell_type": "markdown",
   "metadata": {
    "slideshow": {
     "slide_type": "slide"
    }
   },
   "source": [
    "# 4.1 Exploratory Data Analysis\n",
    "\n",
    "Understanding your data!\n"
   ]
  },
  {
   "cell_type": "markdown",
   "metadata": {
    "slideshow": {
     "slide_type": "fragment"
    }
   },
   "source": [
    "1. Summary statistics and visualizations to better understand data\n",
    "2. Find clues about the tendencies of the data, its quality\n",
    "3. Formulate assumptions and the hypothesis of your analysis. \n",
    "4. Quick and dirty visualizations\n",
    "5. Not infographics!"
   ]
  },
  {
   "cell_type": "markdown",
   "metadata": {
    "slideshow": {
     "slide_type": "subslide"
    }
   },
   "source": [
    "## Summary Statistics are not enough!\n",
    "\n",
    "![](http://cs.wheatonma.edu/mgousie/comp401/anscombe_table.jpg)"
   ]
  },
  {
   "cell_type": "markdown",
   "metadata": {
    "slideshow": {
     "slide_type": "subslide"
    }
   },
   "source": [
    "![](http://www.nature.com/nmeth/journal/v9/n1/images/nmeth.1829-F1.jpg)"
   ]
  },
  {
   "cell_type": "markdown",
   "metadata": {
    "slideshow": {
     "slide_type": "fragment"
    }
   },
   "source": [
    "![](http://stanford.edu/~mwaskom/software/seaborn-dev/_images/anscombes_quartet.png)"
   ]
  },
  {
   "cell_type": "markdown",
   "metadata": {
    "slideshow": {
     "slide_type": "subslide"
    }
   },
   "source": [
    "\n",
    "A Facebook Primer\n",
    "========================================================\n",
    "\n",
    "![](http://i.imgur.com/MecxGG7.png)"
   ]
  },
  {
   "cell_type": "markdown",
   "metadata": {
    "slideshow": {
     "slide_type": "subslide"
    }
   },
   "source": [
    "![](http://i.stack.imgur.com/3ngU8.png)\n",
    "\n",
    "Source: XKCD\n"
   ]
  },
  {
   "cell_type": "markdown",
   "metadata": {
    "slideshow": {
     "slide_type": "subslide"
    }
   },
   "source": [
    "Example of Bad Practice: Junk Charts\n",
    "========================================================\n",
    "\n",
    "\n",
    "![](http://static4.businessinsider.com/image/51bf1e9becad048c0a000002-620-/screen%20shot%202013-06-17%20at%2010.34.08%20am.png)\n"
   ]
  },
  {
   "cell_type": "markdown",
   "metadata": {
    "slideshow": {
     "slide_type": "fragment"
    }
   },
   "source": [
    "![](http://static2.businessinsider.com/image/51bf0aa8ecad04a05d00004a-995-382/screen%20shot%202013-06-17%20at%209.07.44%20am.png)\n"
   ]
  },
  {
   "cell_type": "markdown",
   "metadata": {
    "slideshow": {
     "slide_type": "subslide"
    }
   },
   "source": [
    "Another example of Junk Charts\n",
    "========================================================\n",
    "![](https://i2.wp.com/cdn3.vox-cdn.com/assets/4824510/pev-sales-june.png?zoom=2)"
   ]
  },
  {
   "cell_type": "markdown",
   "metadata": {
    "slideshow": {
     "slide_type": "fragment"
    }
   },
   "source": [
    "![](https://solomonmessing.files.wordpress.com/2014/10/6008e-6a00d8341e992c53ef01a3fd3fdcc3970b-pi.png?w=400)\n",
    "\n"
   ]
  },
  {
   "cell_type": "markdown",
   "metadata": {
    "slideshow": {
     "slide_type": "subslide"
    }
   },
   "source": [
    "Further Reading\n",
    "========================================================\n",
    "\n",
    "[The Visual Display of Quantitative Information](http://amzn.to/1YNmDo8) by Edward Tufte\n",
    "\n",
    "![](//ws-na.amazon-adsystem.com/widgets/q?_encoding=UTF8&ASIN=0961392142&Format=_SL160_&ID=AsinImage&MarketPlace=US&ServiceVersion=20070822&WS=1&tag=andrandr-20\" ></a><img src=\"//ir-na.amazon-adsystem.com/e/ir?t=andrandr-20&l=li2&o=1&a=0961392142)\n",
    "\n",
    " "
   ]
  },
  {
   "cell_type": "markdown",
   "metadata": {
    "slideshow": {
     "slide_type": "subslide"
    }
   },
   "source": [
    "Box Plots\n",
    "========================================================\n",
    "\n",
    "[![](http://stanford.edu/~mwaskom/software/seaborn/_images/horizontal_boxplot.png)](http://stanford.edu/~mwaskom/software/seaborn/examples/horizontal_boxplot.html)\n"
   ]
  },
  {
   "cell_type": "markdown",
   "metadata": {
    "slideshow": {
     "slide_type": "subslide"
    }
   },
   "source": [
    "Histograms\n",
    "========================================================\n",
    "\n",
    "\n",
    "[![](http://matplotlib.org/1.3.1/_images/histogram_demo_extended_00.png)](http://matplotlib.org/1.3.1/examples/pylab_examples/histogram_demo_extended.html)"
   ]
  },
  {
   "cell_type": "markdown",
   "metadata": {
    "slideshow": {
     "slide_type": "subslide"
    }
   },
   "source": [
    "\n",
    "Violin Plots\n",
    "========================================================\n",
    "\n",
    "\n",
    "[![](https://web.stanford.edu/~mwaskom/software/seaborn/_images/simple_violinplots.png)](https://web.stanford.edu/~mwaskom/software/seaborn/examples/simple_violinplots.html)\n",
    "\n"
   ]
  },
  {
   "cell_type": "markdown",
   "metadata": {
    "slideshow": {
     "slide_type": "subslide"
    }
   },
   "source": [
    "Scatter Plots\n",
    "========================================================\n",
    "\n",
    "[![](http://matplotlib.org/_images/scatter_symbol.png)](http://matplotlib.org/examples/pylab_examples/scatter_symbol.html)\n"
   ]
  },
  {
   "cell_type": "markdown",
   "metadata": {
    "slideshow": {
     "slide_type": "subslide"
    }
   },
   "source": [
    "Line chart\n",
    "========================================================\n",
    "\n",
    "[![](http://matplotlib.org/_images/plotfile_demo_00.png)](http://matplotlib.org/examples/pylab_examples/plotfile_demo.html)\n"
   ]
  },
  {
   "cell_type": "markdown",
   "metadata": {
    "slideshow": {
     "slide_type": "subslide"
    }
   },
   "source": [
    "\n",
    "Multifacted Line Charts\n",
    "========================================================\n",
    "[![](https://web.stanford.edu/~mwaskom/software/seaborn/_images/many_facets.png)](https://web.stanford.edu/~mwaskom/software/seaborn/examples/many_facets.html)\n"
   ]
  },
  {
   "cell_type": "markdown",
   "metadata": {
    "slideshow": {
     "slide_type": "subslide"
    }
   },
   "source": [
    "Multivariate Visualization (bad example)\n",
    "========================================================\n",
    "\n",
    "\n",
    "[![](http://matplotlib.org/_images/scatter3d_demo.png)](http://matplotlib.org/examples/mplot3d/scatter3d_demo.html)\n"
   ]
  },
  {
   "cell_type": "markdown",
   "metadata": {
    "slideshow": {
     "slide_type": "fragment"
    }
   },
   "source": [
    "\n",
    "Multivariate Visualization\n",
    "========================================================\n",
    "\n",
    "[![](http://stanford.edu/~mwaskom/software/seaborn/_images/scatterplot_matrix.png)](http://stanford.edu/~mwaskom/software/seaborn/examples/scatterplot_matrix.html)\n"
   ]
  },
  {
   "cell_type": "markdown",
   "metadata": {
    "slideshow": {
     "slide_type": "subslide"
    }
   },
   "source": [
    "\n",
    "Multivariate Visualization\n",
    "========================================================\n",
    "[![](http://matplotlib.org/_images/mri_with_eeg.png)](http://matplotlib.org/examples/pylab_examples/mri_with_eeg.html)\n"
   ]
  },
  {
   "cell_type": "markdown",
   "metadata": {
    "slideshow": {
     "slide_type": "subslide"
    }
   },
   "source": [
    "\n",
    "Image classification\n",
    "========================================================\n",
    "\n",
    "[![](http://scikit-learn.sourceforge.net/0.6/_images/plot_face_recognition.png)](http://scikit-learn.sourceforge.net/0.6/auto_examples/applications/plot_face_recognition.html)"
   ]
  },
  {
   "cell_type": "markdown",
   "metadata": {
    "slideshow": {
     "slide_type": "subslide"
    }
   },
   "source": [
    "\n",
    "Decomposed Images\n",
    "========================================================\n",
    "\n",
    "[![](http://scikit-learn.org/stable/_images/plot_faces_decomposition_002.png)](http://scikit-learn.org/stable/auto_examples/decomposition/plot_faces_decomposition.html)\n"
   ]
  },
  {
   "cell_type": "markdown",
   "metadata": {
    "slideshow": {
     "slide_type": "subslide"
    }
   },
   "source": [
    "\n",
    "\n",
    "Simple Example: MSCI 723\n",
    "========================================================\n",
    "\n",
    "\n",
    "\n",
    "![](http://datascienceguide.github.io/images/mark_vs_time_studying.png)"
   ]
  },
  {
   "cell_type": "markdown",
   "metadata": {
    "slideshow": {
     "slide_type": "slide"
    }
   },
   "source": [
    "\n",
    "Ask > Acquire > Assimilate > ___Analyze___\n",
    "\n",
    "1. Exploratory Data Analysis\n",
    "2. **Unsupervised Machine Learning**\n"
   ]
  },
  {
   "cell_type": "markdown",
   "metadata": {
    "slideshow": {
     "slide_type": "fragment"
    }
   },
   "source": [
    "1. Dimensionality Reduction\n",
    "2. Outlier Detection\n",
    "3. Clustering\n",
    "4. Association"
   ]
  },
  {
   "cell_type": "markdown",
   "metadata": {
    "slideshow": {
     "slide_type": "slide"
    }
   },
   "source": [
    "## 4.2.1 Dimensionality Reduction\n",
    "\n",
    "\n",
    "![](http://www.holehouse.org/mlclass/14_Dimensionality_Reduction_files/Image%20%5B1%5D.png)\n",
    "\n",
    "Source: Andrew Ng, Machine Learning"
   ]
  },
  {
   "cell_type": "markdown",
   "metadata": {
    "slideshow": {
     "slide_type": "fragment"
    }
   },
   "source": [
    "\n",
    "![](http://www.holehouse.org/mlclass/14_Dimensionality_Reduction_files/Image%20%5B10%5D.png)"
   ]
  },
  {
   "cell_type": "markdown",
   "metadata": {
    "slideshow": {
     "slide_type": "fragment"
    }
   },
   "source": [
    "Done using Principal Component Analysis (PCA)\n",
    "\n",
    "[Visualizing PCA](http://setosa.io/ev/principal-component-analysis/)"
   ]
  },
  {
   "cell_type": "markdown",
   "metadata": {
    "slideshow": {
     "slide_type": "slide"
    }
   },
   "source": [
    "# 4.2.2 Outlier Detection\n",
    "\n",
    "![](http://bp1.blogger.com/_x7QjiZypFj0/Rp9dcGTsBKI/AAAAAAAAAA0/VWwfWDv6nzM/s400/Outlier.jpg)"
   ]
  },
  {
   "cell_type": "markdown",
   "metadata": {
    "slideshow": {
     "slide_type": "fragment"
    }
   },
   "source": [
    "Comparing the local density of a point with the densities of its neighbors\n",
    "\n",
    "How LOF algorithm works:\n",
    "\n",
    "![](https://upload.wikimedia.org/wikipedia/commons/thumb/4/4e/LOF-idea.svg/375px-LOF-idea.svg.png)\n",
    "\n"
   ]
  },
  {
   "cell_type": "markdown",
   "metadata": {
    "slideshow": {
     "slide_type": "slide"
    }
   },
   "source": [
    "# 4.2.3 Clustering\n",
    "\n",
    "Find natural groupings in data!\n",
    "\n",
    "![](http://datascienceguide.github.io/images/mark_vs_time_studying_clustered.png)\n",
    "\n"
   ]
  },
  {
   "cell_type": "markdown",
   "metadata": {
    "slideshow": {
     "slide_type": "subslide"
    }
   },
   "source": [
    "K means clustering:\n",
    "\n",
    "![](https://datasciencelab.files.wordpress.com/2013/12/p_n200_k3_g.gif?w=830)\n"
   ]
  },
  {
   "cell_type": "markdown",
   "metadata": {
    "slideshow": {
     "slide_type": "subslide"
    }
   },
   "source": [
    "Fuzzy C means Clustering\n",
    "\n",
    "[![](http://pythonhosted.org/scikit-fuzzy/_images/plot_cmeans_4.png)](http://pythonhosted.org/scikit-fuzzy/auto_examples/plot_cmeans.html)\n"
   ]
  },
  {
   "cell_type": "markdown",
   "metadata": {
    "slideshow": {
     "slide_type": "fragment"
    }
   },
   "source": [
    "\n",
    "Clustering Algorithm Comparison\n",
    "========================================================\n",
    "\n",
    "[![](http://scikit-learn.org/stable/_images/plot_cluster_comparison_001.png)](http://scikit-learn.org/stable/auto_examples/cluster/plot_cluster_comparison.html)\n",
    "\n"
   ]
  },
  {
   "cell_type": "markdown",
   "metadata": {
    "slideshow": {
     "slide_type": "fragment"
    }
   },
   "source": [
    "# Self Organizing Maps (Advanced)\n",
    "\n",
    "![](http://pythonhosted.org/MLZ/_images/scheme2.png)"
   ]
  },
  {
   "cell_type": "markdown",
   "metadata": {},
   "source": [
    "# Graph Clustering\n",
    "\n",
    "![](http://ascr-discovery.science.doe.gov/wp-content/uploads/2013/09/Sifting-Genomes-1.png)"
   ]
  },
  {
   "cell_type": "code",
   "execution_count": null,
   "metadata": {
    "collapsed": true
   },
   "outputs": [],
   "source": [
    "h"
   ]
  },
  {
   "cell_type": "code",
   "execution_count": null,
   "metadata": {
    "collapsed": true
   },
   "outputs": [],
   "source": []
  }
 ],
 "metadata": {
  "celltoolbar": "Slideshow",
  "kernelspec": {
   "display_name": "Python 2",
   "language": "python",
   "name": "python2"
  },
  "language_info": {
   "codemirror_mode": {
    "name": "ipython",
    "version": 2
   },
   "file_extension": ".py",
   "mimetype": "text/x-python",
   "name": "python",
   "nbconvert_exporter": "python",
   "pygments_lexer": "ipython2",
   "version": "2.7.6"
  }
 },
 "nbformat": 4,
 "nbformat_minor": 0
}
