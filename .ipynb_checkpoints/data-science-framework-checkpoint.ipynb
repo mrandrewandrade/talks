{
 "cells": [
  {
   "cell_type": "markdown",
   "metadata": {
    "slideshow": {
     "slide_type": "slide"
    }
   },
   "source": [
    "\n",
    "\n",
    "<style>\n",
    "\n",
    "@font-face {\n",
    "    font-family: \"Computer Modern\";\n",
    "    src: url('http://mirrors.ctan.org/fonts/cm-unicode/fonts/otf/cmunss.otf');\n",
    "}\n",
    "#notebook_panel { /* main background */\n",
    "    background: #888;\n",
    "    color: #f6f6f6;\n",
    "}\n",
    "#notebook li { /* More space between bullet points */\n",
    "margin-top:0.8em;\n",
    "}\n",
    "div.text_cell_render{\n",
    "    font-family: 'Arvo' sans-serif;\n",
    "    line-height: 110%;\n",
    "    font-size: 135%;\n",
    "    width:1000px;\n",
    "    margin-left:auto;\n",
    "    margin-right:auto;\n",
    "}\n",
    "\n",
    "</style>\n",
    "\n",
    "\n",
    "<center>\n",
    "\n",
    "<p class=\"gap05\"<p>\n",
    "<h1>Data Science Framework and Machine Learning 101</h1>\n",
    "\n",
    "<p class=\"gap05\"<p>\n",
    "\n",
    "<h4> http://mrandrewandrade.com/talks/data-science-framework.slides.html</h4>\n",
    "\n",
    "\n",
    "<h4>Stats Club and Data Science Club</h4>\n",
    "\n",
    "<p class=\"gap2\"<p>\n",
    "\n",
    "\n",
    "<h4> June 2, 2016 </h4>\n",
    "\n",
    "\n",
    "</center>\n",
    "\n",
    "<style type=\"text/css\">\n",
    ".input_prompt, .input_area, .output_prompt {\n",
    "    display:none !important;\n",
    "}\n",
    "</style>\n",
    "\n"
   ]
  },
  {
   "cell_type": "markdown",
   "metadata": {
    "collapsed": false,
    "slideshow": {
     "slide_type": "subslide"
    }
   },
   "source": [
    "# Why?\n",
    "\n",
    "![alt text](http://i.stack.imgur.com/mlhO9.jpg)\n",
    "\n",
    "\n"
   ]
  },
  {
   "cell_type": "markdown",
   "metadata": {
    "slideshow": {
     "slide_type": "fragment"
    }
   },
   "source": [
    "Let's not jump to big data before we work on some data!\n"
   ]
  },
  {
   "cell_type": "markdown",
   "metadata": {
    "slideshow": {
     "slide_type": "fragment"
    }
   },
   "source": [
    "Let's not jump to neural networks before we work on logistic regression!\n"
   ]
  },
  {
   "cell_type": "markdown",
   "metadata": {
    "slideshow": {
     "slide_type": "fragment"
    }
   },
   "source": [
    "Let's not jump to random forest before we work on a decision tree!"
   ]
  },
  {
   "cell_type": "markdown",
   "metadata": {
    "slideshow": {
     "slide_type": "subslide"
    }
   },
   "source": [
    "# Goals of Talk"
   ]
  },
  {
   "cell_type": "markdown",
   "metadata": {
    "slideshow": {
     "slide_type": "fragment"
    }
   },
   "source": [
    "1/ How to Think Like a Data Scientist"
   ]
  },
  {
   "cell_type": "markdown",
   "metadata": {
    "slideshow": {
     "slide_type": "fragment"
    }
   },
   "source": [
    "2/ Learn Structured Data Science Framework"
   ]
  },
  {
   "cell_type": "markdown",
   "metadata": {
    "slideshow": {
     "slide_type": "fragment"
    }
   },
   "source": [
    "3/ Learn Basics of Machine Learning and Data Mining"
   ]
  },
  {
   "cell_type": "markdown",
   "metadata": {
    "slideshow": {
     "slide_type": "slide"
    }
   },
   "source": [
    "# About Andrew Andrade\n",
    "\n",
    "## University of Waterloo\n",
    "**Mechatronics Engineering**\n",
    "\n",
    "Management Science Option\n",
    "\n",
    "## Co-op experience:\n",
    "- Start-ups in oil and gas and semiconductor\n",
    "- Chrysler, PetroCanada (Suncor), Facebook\n",
    "- PetroPredict"
   ]
  },
  {
   "cell_type": "markdown",
   "metadata": {
    "slideshow": {
     "slide_type": "subslide"
    }
   },
   "source": [
    "# About Andrew Andrade\n",
    "\n",
    "## Research:\n",
    "Applications of Data Mining and Intelligence Amplification:\n",
    "\n",
    "- Self-driving Vehicles\n",
    "- Production Optimization\n",
    "- Hardware and Manufacturing\n",
    "- Educational Data Mining\n"
   ]
  },
  {
   "cell_type": "markdown",
   "metadata": {
    "slideshow": {
     "slide_type": "slide"
    }
   },
   "source": [
    "# What is Data Science?\n",
    "\n",
    "![](http://b-i.forbesimg.com/gilpress/files/2013/05/Data_Science_VD.png)\n",
    "\n",
    "Source: [Drew Conway](http://drewconway.com)\n"
   ]
  },
  {
   "cell_type": "markdown",
   "metadata": {
    "slideshow": {
     "slide_type": "subslide"
    }
   },
   "source": [
    "\n",
    "# Data Science Role\n",
    "\n",
    "Has many meanings:\n",
    "\n",
    "![](http://i2.wp.com/blog.udacity.com/wp-content/uploads/2014/11/blog_dataChart_white.png?resize=640%2C740)\n",
    "\n",
    "Read blog post: [Udacity](http://blog.udacity.com/2014/11/data-science-job-skills.html)\n",
    "\n",
    "\n"
   ]
  },
  {
   "cell_type": "markdown",
   "metadata": {
    "slideshow": {
     "slide_type": "slide"
    }
   },
   "source": [
    "# What is Data Science\n",
    "\n",
    "(to Andrew Andrade)\n",
    "\n",
    "\n",
    "Combination of deductive (hypothesis-based) and inductive (pattern-based) reasoning.\n",
    "\n"
   ]
  },
  {
   "cell_type": "markdown",
   "metadata": {
    "slideshow": {
     "slide_type": "subslide"
    }
   },
   "source": [
    "# Bottom up approach\n",
    "\n",
    "Deductive (hypothesis-based) using Scientific Principles\n",
    "\n",
    "## Eg. Falling Ball\n",
    "\n",
    "We can use physics to analyse a ball falling:\n",
    "\n",
    "![](https://www.researchgate.net/profile/Mark_Nagurka/publication/228575622/figure/fig3/AS:301980833599495@1449009249977/Fig-3-Free-body-diagram-of-falling-ball-showing-body-buoyancy-and-aerodynamic-forces.png)"
   ]
  },
  {
   "cell_type": "markdown",
   "metadata": {
    "slideshow": {
     "slide_type": "subslide"
    }
   },
   "source": [
    "# Top Down approach\n",
    "\n",
    "Inductive (pattern-based) reasoning using data\n",
    "\n",
    "## Eg. Partical Filter with Falling Ball\n",
    "\n",
    "We can take measurements and guess the properties of the ball\n",
    "\n",
    "![](https://www.anuncommonlab.com/articles/how-kalman-filters-work/img/particle_demo_01.png)\n",
    "\n",
    "\n",
    "\n"
   ]
  },
  {
   "cell_type": "markdown",
   "metadata": {
    "slideshow": {
     "slide_type": "subslide"
    }
   },
   "source": [
    "![](https://www.anuncommonlab.com/articles/how-kalman-filters-work/img/particle_demo_02.png)"
   ]
  },
  {
   "cell_type": "markdown",
   "metadata": {
    "slideshow": {
     "slide_type": "subslide"
    }
   },
   "source": [
    "![](https://www.anuncommonlab.com/articles/how-kalman-filters-work/img/particle_demo_03.png)"
   ]
  },
  {
   "cell_type": "markdown",
   "metadata": {
    "slideshow": {
     "slide_type": "subslide"
    }
   },
   "source": [
    "![](https://www.anuncommonlab.com/articles/how-kalman-filters-work/img/particle_demo_07.png)\n",
    "\n",
    "\n",
    "\n",
    "Data science if finding the combination of using science and data to answer questions!\n"
   ]
  },
  {
   "cell_type": "markdown",
   "metadata": {
    "slideshow": {
     "slide_type": "slide"
    }
   },
   "source": [
    "# Intelligence amplification\n",
    "\n",
    "\n",
    "The creation of the man-machine symbiosis: We use computers to solve problems where computes do the routinizable work, so data scientists can answer the hard questions\n",
    "\n",
    "![](http://i.imgur.com/yYC26PU.png)\n",
    "\n",
    "Source: Joe Lonsdale / Formation8"
   ]
  },
  {
   "cell_type": "markdown",
   "metadata": {
    "slideshow": {
     "slide_type": "subslide"
    }
   },
   "source": [
    "Hard questions:\n",
    "\n",
    "![](http://i.imgur.com/PURXSbQ.png)\n",
    "\n",
    "Source: Joe Lonsdale / Formation8"
   ]
  },
  {
   "cell_type": "markdown",
   "metadata": {
    "slideshow": {
     "slide_type": "subslide"
    }
   },
   "source": [
    "![](http://i.imgur.com/3NJc0w6.png)\n",
    "Source: Joe Lonsdale / Formation8\n"
   ]
  },
  {
   "cell_type": "markdown",
   "metadata": {
    "slideshow": {
     "slide_type": "subslide"
    }
   },
   "source": [
    "# What is Data Mining\n",
    "\n",
    "![](http://www.saedsayad.com/images/DM.png)\n"
   ]
  },
  {
   "cell_type": "markdown",
   "metadata": {
    "slideshow": {
     "slide_type": "fragment"
    }
   },
   "source": [
    "Explaining the past and predicting the future by means of data analysis.  It is only a tool to solve problems using data!\n"
   ]
  },
  {
   "cell_type": "markdown",
   "metadata": {
    "slideshow": {
     "slide_type": "slide"
    }
   },
   "source": [
    "# The Data Science Framework\n",
    "\n",
    "Ask > Acquire > Assimilate > Analyze > Answer > Advise > Act\n"
   ]
  },
  {
   "cell_type": "markdown",
   "metadata": {
    "slideshow": {
     "slide_type": "fragment"
    }
   },
   "source": [
    "__1 Ask__ : Start by being curious and asking the right questions"
   ]
  },
  {
   "cell_type": "markdown",
   "metadata": {
    "slideshow": {
     "slide_type": "fragment"
    }
   },
   "source": [
    "__2,3 Aquire and Assimilate__ : Collect data and make it useable"
   ]
  },
  {
   "cell_type": "markdown",
   "metadata": {
    "slideshow": {
     "slide_type": "fragment"
    }
   },
   "source": [
    "__4 Analyze__ : Learn from the data and get actional insights"
   ]
  },
  {
   "cell_type": "markdown",
   "metadata": {
    "slideshow": {
     "slide_type": "fragment"
    }
   },
   "source": [
    "__5 Answer__ : Take learnings and answer the question asked"
   ]
  },
  {
   "cell_type": "markdown",
   "metadata": {
    "slideshow": {
     "slide_type": "fragment"
    }
   },
   "source": [
    "__6 Advise__ : Optimize and make recommendations"
   ]
  },
  {
   "cell_type": "markdown",
   "metadata": {
    "slideshow": {
     "slide_type": "fragment"
    }
   },
   "source": [
    "__7 Act__ : Get your advice implemented!"
   ]
  },
  {
   "cell_type": "markdown",
   "metadata": {
    "slideshow": {
     "slide_type": "subslide"
    }
   },
   "source": [
    "![](http://i.imgur.com/pO8isZf.png)"
   ]
  },
  {
   "cell_type": "markdown",
   "metadata": {
    "slideshow": {
     "slide_type": "fragment"
    }
   },
   "source": [
    "![](http://i.imgur.com/4RjJ6de.png)"
   ]
  },
  {
   "cell_type": "markdown",
   "metadata": {
    "slideshow": {
     "slide_type": "subslide"
    }
   },
   "source": [
    "![](http://i.imgur.com/YnDlqkI.png)"
   ]
  },
  {
   "cell_type": "markdown",
   "metadata": {
    "slideshow": {
     "slide_type": "subslide"
    }
   },
   "source": [
    "![](http://i.imgur.com/ncOBzJN.png)"
   ]
  },
  {
   "cell_type": "markdown",
   "metadata": {
    "slideshow": {
     "slide_type": "fragment"
    }
   },
   "source": [
    "![](http://i.imgur.com/M82Up3o.png)"
   ]
  },
  {
   "cell_type": "markdown",
   "metadata": {
    "slideshow": {
     "slide_type": "slide"
    }
   },
   "source": [
    "**Ask** > \n",
    "\n",
    "Data Science starts by asking the right question"
   ]
  },
  {
   "cell_type": "markdown",
   "metadata": {
    "slideshow": {
     "slide_type": "fragment"
    }
   },
   "source": [
    "# 1.1 Asking the Right Question\n",
    "\n",
    "Find the biggest desperate need and start with tht!\n",
    "\n",
    "[beastar.uwaterloo.ca](http://beastar.uwaterloo.ca/)\n"
   ]
  },
  {
   "cell_type": "markdown",
   "metadata": {
    "slideshow": {
     "slide_type": "slide"
    }
   },
   "source": [
    "Ask > ___Acquire > Assimilate___\n",
    "\n",
    "# 2. and 3. Aquiring and Assimilating Data\n"
   ]
  },
  {
   "cell_type": "markdown",
   "metadata": {
    "slideshow": {
     "slide_type": "fragment"
    }
   },
   "source": [
    "1/ What data would be necessary?"
   ]
  },
  {
   "cell_type": "markdown",
   "metadata": {
    "slideshow": {
     "slide_type": "fragment"
    }
   },
   "source": [
    "2/ What data is available?"
   ]
  },
  {
   "cell_type": "markdown",
   "metadata": {
    "slideshow": {
     "slide_type": "fragment"
    }
   },
   "source": [
    "3/ What form is the data in?"
   ]
  },
  {
   "cell_type": "markdown",
   "metadata": {
    "slideshow": {
     "slide_type": "fragment"
    }
   },
   "source": [
    "4/ How to transform data?"
   ]
  },
  {
   "cell_type": "markdown",
   "metadata": {
    "slideshow": {
     "slide_type": "fragment"
    }
   },
   "source": [
    "5/ Visualize Data"
   ]
  },
  {
   "cell_type": "markdown",
   "metadata": {
    "slideshow": {
     "slide_type": "fragment"
    }
   },
   "source": [
    "6/ Analyse and Repeat"
   ]
  },
  {
   "cell_type": "markdown",
   "metadata": {
    "slideshow": {
     "slide_type": "subslide"
    }
   },
   "source": [
    "# 3.1 Feature Engineering\n",
    "\n",
    "What are the inputs used in a machine learning model?\n",
    "\n",
    "\n",
    "Data is stored into a table:\n",
    "![](https://sciencesediment.files.wordpress.com/2012/02/vertical_table.jpg)\n",
    "\n"
   ]
  },
  {
   "cell_type": "markdown",
   "metadata": {
    "slideshow": {
     "slide_type": "subslide"
    }
   },
   "source": [
    "![](https://docs.jboss.org/richfaces/latest_4_0_X/Component_Reference/en-US/html/images/figu-Component_Reference-Tables_and_grids-richextendedDataTable_example.png)\n",
    "\n",
    "![](http://sourcecodemania.com/wp-content/uploads/2012/06/adjacency-matrix-of-graph.jpg)\n",
    "\n",
    "![](http://gerardnico.com/wiki/_media/database/oracle/oracle_olap_aw_cube.jpg)"
   ]
  },
  {
   "cell_type": "markdown",
   "metadata": {
    "slideshow": {
     "slide_type": "subslide"
    }
   },
   "source": [
    "### Why is Feature Engineering Important?\n",
    "\n",
    "Coming up with features is difficult, time-consuming, requires expert knowledge.\n",
    "\n",
    "\"Applied machine learning\" is basically feature engineering.\n",
    "\n",
    "— Andrew Ng\n"
   ]
  },
  {
   "cell_type": "markdown",
   "metadata": {
    "slideshow": {
     "slide_type": "fragment"
    }
   },
   "source": [
    "…some machine learning projects succeed and some fail. What makes the difference? Easily the most important factor is the features used.\n",
    "\n",
    "— Pedro Domingos, in \"A Few Useful Things to Know about Machine Learning\""
   ]
  },
  {
   "cell_type": "markdown",
   "metadata": {
    "slideshow": {
     "slide_type": "subslide"
    }
   },
   "source": [
    "1. Better features means flexibility.\n",
    "2. Better features means simpler models.\n",
    "3. Better features means better results.\n"
   ]
  },
  {
   "cell_type": "markdown",
   "metadata": {
    "slideshow": {
     "slide_type": "subslide"
    }
   },
   "source": [
    "# Feature Engineering Example\n",
    "\n",
    "If you wanted to build a recommendation engine for vacation packages out of Malaysia, what features could you use?\n",
    "\n",
    "![](https://fshahim.files.wordpress.com/2013/06/airasia.gif)\n",
    "\n",
    "Instead of using the names of the cities, you can use the price of flights, the distance or even if a visa is required or not"
   ]
  },
  {
   "cell_type": "markdown",
   "metadata": {
    "slideshow": {
     "slide_type": "subslide"
    }
   },
   "source": [
    "# Garbage In, Garbage Out\n",
    "\n",
    "![](http://i.stack.imgur.com/yZQgZ.gif)\n",
    "\n",
    "Machine learning is not magical, bad inputs will result it \n"
   ]
  },
  {
   "cell_type": "markdown",
   "metadata": {
    "slideshow": {
     "slide_type": "subslide"
    }
   },
   "source": [
    "Some Feature Engineering Techniques:\n",
    "- Filtering\n",
    "- Imputation\n",
    "- Dimensionality Reduction\n",
    "- Normilazation\n",
    "- Feature Extraction"
   ]
  },
  {
   "cell_type": "markdown",
   "metadata": {
    "slideshow": {
     "slide_type": "subslide"
    }
   },
   "source": [
    "Further Reading\n",
    "========================================================\n",
    "\n",
    "[Discover Feature Engineering, How to Engineer Features and How to Get Good at It](http://machinelearningmastery.com/discover-feature-engineering-how-to-engineer-features-and-how-to-get-good-at-it/)\n",
    "\n",
    "[Data selection, preparation, and modeling](http://www.innoarchitech.com/machine-learning-an-in-depth-non-technical-guide-part-2)\n",
    "\n"
   ]
  },
  {
   "cell_type": "markdown",
   "metadata": {
    "slideshow": {
     "slide_type": "slide"
    }
   },
   "source": [
    "Ask > Acquire > Assimilate > __Analyze__ \n",
    "\n",
    "# 4 Analyze"
   ]
  },
  {
   "cell_type": "markdown",
   "metadata": {
    "slideshow": {
     "slide_type": "fragment"
    }
   },
   "source": [
    "1/ Exploratory Data Analysis"
   ]
  },
  {
   "cell_type": "markdown",
   "metadata": {
    "slideshow": {
     "slide_type": "fragment"
    }
   },
   "source": [
    "2/ Unsupervised Machine Learning\n"
   ]
  },
  {
   "cell_type": "markdown",
   "metadata": {
    "slideshow": {
     "slide_type": "fragment"
    }
   },
   "source": [
    "3/ Supervised Machine Learning"
   ]
  },
  {
   "cell_type": "markdown",
   "metadata": {
    "slideshow": {
     "slide_type": "slide"
    }
   },
   "source": [
    "# 4.1 Exploratory Data Analysis\n",
    "\n",
    "Understanding your data!\n"
   ]
  },
  {
   "cell_type": "markdown",
   "metadata": {
    "slideshow": {
     "slide_type": "fragment"
    }
   },
   "source": [
    "1. Summary statistics and visualizations to better understand data\n",
    "2. Find clues about the tendencies of the data, its quality\n",
    "3. Formulate assumptions and the hypothesis of your analysis. \n",
    "4. Quick and dirty visualizations\n",
    "5. Not infographics!"
   ]
  },
  {
   "cell_type": "markdown",
   "metadata": {
    "slideshow": {
     "slide_type": "subslide"
    }
   },
   "source": [
    "## Summary Statistics are not enough!\n",
    "\n",
    "![](http://cs.wheatonma.edu/mgousie/comp401/anscombe_table.jpg)"
   ]
  },
  {
   "cell_type": "markdown",
   "metadata": {
    "slideshow": {
     "slide_type": "subslide"
    }
   },
   "source": [
    "![](http://www.nature.com/nmeth/journal/v9/n1/images/nmeth.1829-F1.jpg)"
   ]
  },
  {
   "cell_type": "markdown",
   "metadata": {
    "slideshow": {
     "slide_type": "fragment"
    }
   },
   "source": [
    "![](http://stanford.edu/~mwaskom/software/seaborn-dev/_images/anscombes_quartet.png)"
   ]
  },
  {
   "cell_type": "markdown",
   "metadata": {
    "slideshow": {
     "slide_type": "subslide"
    }
   },
   "source": [
    "\n",
    "A Facebook Primer\n",
    "========================================================\n",
    "\n",
    "![](http://i.imgur.com/MecxGG7.png)"
   ]
  },
  {
   "cell_type": "markdown",
   "metadata": {
    "slideshow": {
     "slide_type": "subslide"
    }
   },
   "source": [
    "![](http://i.stack.imgur.com/3ngU8.png)\n",
    "\n",
    "Source: XKCD\n"
   ]
  },
  {
   "cell_type": "markdown",
   "metadata": {
    "slideshow": {
     "slide_type": "subslide"
    }
   },
   "source": [
    "Example of Bad Practice: Junk Charts\n",
    "========================================================\n",
    "\n",
    "\n",
    "![](http://static4.businessinsider.com/image/51bf1e9becad048c0a000002-620-/screen%20shot%202013-06-17%20at%2010.34.08%20am.png)\n"
   ]
  },
  {
   "cell_type": "markdown",
   "metadata": {
    "slideshow": {
     "slide_type": "fragment"
    }
   },
   "source": [
    "![](http://static2.businessinsider.com/image/51bf0aa8ecad04a05d00004a-995-382/screen%20shot%202013-06-17%20at%209.07.44%20am.png)\n"
   ]
  },
  {
   "cell_type": "markdown",
   "metadata": {
    "slideshow": {
     "slide_type": "subslide"
    }
   },
   "source": [
    "Another example of Junk Charts\n",
    "========================================================\n",
    "![](https://i2.wp.com/cdn3.vox-cdn.com/assets/4824510/pev-sales-june.png?zoom=2)"
   ]
  },
  {
   "cell_type": "markdown",
   "metadata": {
    "slideshow": {
     "slide_type": "fragment"
    }
   },
   "source": [
    "![](https://solomonmessing.files.wordpress.com/2014/10/6008e-6a00d8341e992c53ef01a3fd3fdcc3970b-pi.png?w=400)\n",
    "\n"
   ]
  },
  {
   "cell_type": "markdown",
   "metadata": {
    "slideshow": {
     "slide_type": "subslide"
    }
   },
   "source": [
    "Further Reading\n",
    "========================================================\n",
    "\n",
    "[The Visual Display of Quantitative Information](http://amzn.to/1YNmDo8) by Edward Tufte\n",
    "\n",
    "![](//ws-na.amazon-adsystem.com/widgets/q?_encoding=UTF8&ASIN=0961392142&Format=_SL160_&ID=AsinImage&MarketPlace=US&ServiceVersion=20070822&WS=1&tag=andrandr-20\" ></a><img src=\"//ir-na.amazon-adsystem.com/e/ir?t=andrandr-20&l=li2&o=1&a=0961392142)\n",
    "\n",
    " "
   ]
  },
  {
   "cell_type": "markdown",
   "metadata": {
    "slideshow": {
     "slide_type": "subslide"
    }
   },
   "source": [
    "# Example of Good Plots\n",
    "\n",
    "## Box Plots\n",
    "\n",
    "[![](http://stanford.edu/~mwaskom/software/seaborn/_images/horizontal_boxplot.png)](http://stanford.edu/~mwaskom/software/seaborn/examples/horizontal_boxplot.html)\n"
   ]
  },
  {
   "cell_type": "markdown",
   "metadata": {
    "slideshow": {
     "slide_type": "subslide"
    }
   },
   "source": [
    "Histograms\n",
    "========================================================\n",
    "\n",
    "\n",
    "[![](http://matplotlib.org/1.3.1/_images/histogram_demo_extended_00.png)](http://matplotlib.org/1.3.1/examples/pylab_examples/histogram_demo_extended.html)"
   ]
  },
  {
   "cell_type": "markdown",
   "metadata": {
    "slideshow": {
     "slide_type": "subslide"
    }
   },
   "source": [
    "\n",
    "Violin Plots\n",
    "========================================================\n",
    "\n",
    "\n",
    "[![](https://web.stanford.edu/~mwaskom/software/seaborn/_images/simple_violinplots.png)](https://web.stanford.edu/~mwaskom/software/seaborn/examples/simple_violinplots.html)\n",
    "\n"
   ]
  },
  {
   "cell_type": "markdown",
   "metadata": {
    "slideshow": {
     "slide_type": "subslide"
    }
   },
   "source": [
    "Scatter Plots\n",
    "========================================================\n",
    "\n",
    "[![](http://matplotlib.org/_images/scatter_symbol.png)](http://matplotlib.org/examples/pylab_examples/scatter_symbol.html)\n"
   ]
  },
  {
   "cell_type": "markdown",
   "metadata": {
    "slideshow": {
     "slide_type": "subslide"
    }
   },
   "source": [
    "Line chart\n",
    "========================================================\n",
    "\n",
    "[![](http://matplotlib.org/_images/plotfile_demo_00.png)](http://matplotlib.org/examples/pylab_examples/plotfile_demo.html)\n"
   ]
  },
  {
   "cell_type": "markdown",
   "metadata": {
    "slideshow": {
     "slide_type": "subslide"
    }
   },
   "source": [
    "\n",
    "Multifacted Line Charts\n",
    "========================================================\n",
    "[![](https://web.stanford.edu/~mwaskom/software/seaborn/_images/many_facets.png)](https://web.stanford.edu/~mwaskom/software/seaborn/examples/many_facets.html)\n"
   ]
  },
  {
   "cell_type": "markdown",
   "metadata": {
    "slideshow": {
     "slide_type": "subslide"
    }
   },
   "source": [
    "Multivariate Visualization (bad example)\n",
    "========================================================\n",
    "\n",
    "\n",
    "[![](http://matplotlib.org/_images/scatter3d_demo.png)](http://matplotlib.org/examples/mplot3d/scatter3d_demo.html)\n"
   ]
  },
  {
   "cell_type": "markdown",
   "metadata": {
    "slideshow": {
     "slide_type": "fragment"
    }
   },
   "source": [
    "\n",
    "Multivariate Visualization\n",
    "========================================================\n",
    "\n",
    "[![](http://stanford.edu/~mwaskom/software/seaborn/_images/scatterplot_matrix.png)](http://stanford.edu/~mwaskom/software/seaborn/examples/scatterplot_matrix.html)\n"
   ]
  },
  {
   "cell_type": "markdown",
   "metadata": {
    "slideshow": {
     "slide_type": "subslide"
    }
   },
   "source": [
    "\n",
    "Multivariate Visualization\n",
    "========================================================\n",
    "[![](http://matplotlib.org/_images/mri_with_eeg.png)](http://matplotlib.org/examples/pylab_examples/mri_with_eeg.html)\n"
   ]
  },
  {
   "cell_type": "markdown",
   "metadata": {
    "slideshow": {
     "slide_type": "subslide"
    }
   },
   "source": [
    "\n",
    "Image classification\n",
    "========================================================\n",
    "\n",
    "\n",
    "\n",
    "[![](http://scikit-learn.sourceforge.net/0.6/_images/plot_face_recognition.png)](http://scikit-learn.sourceforge.net/0.6/auto_examples/applications/plot_face_recognition.html)\n",
    "\n",
    "Instead of using black box transformations on the images, try and visualize what the transformations are doing"
   ]
  },
  {
   "cell_type": "markdown",
   "metadata": {
    "slideshow": {
     "slide_type": "subslide"
    }
   },
   "source": [
    "\n",
    "Decomposed Images\n",
    "========================================================\n",
    "\n",
    "[![](http://scikit-learn.org/stable/_images/plot_faces_decomposition_002.png)](http://scikit-learn.org/stable/auto_examples/decomposition/plot_faces_decomposition.html)\n",
    "\n",
    "In this example, the location of the eyes and the mouth (and their distance) are important features\n"
   ]
  },
  {
   "cell_type": "markdown",
   "metadata": {
    "slideshow": {
     "slide_type": "subslide"
    }
   },
   "source": [
    "\n",
    "\n",
    "Simple Example: MSCI 723\n",
    "========================================================\n",
    "\n",
    "Scatter plot of Grade vs. Hours of Study\n",
    "\n",
    "|Hours of study | Grade|\n",
    "|:-------------:|:----:|\n",
    "|6          | 85%|\n",
    "|...            |   ...|\n",
    "\n",
    "\n",
    "\n",
    "![](http://datascienceguide.github.io/images/mark_vs_time_studying.png)"
   ]
  },
  {
   "cell_type": "markdown",
   "metadata": {
    "slideshow": {
     "slide_type": "slide"
    }
   },
   "source": [
    "\n",
    "Ask > Acquire > Assimilate > ___Analyze___\n",
    "\n",
    "1. Exploratory Data Analysis\n",
    "2. **Unsupervised Machine Learning**\n"
   ]
  },
  {
   "cell_type": "markdown",
   "metadata": {
    "slideshow": {
     "slide_type": "fragment"
    }
   },
   "source": [
    "1. Dimensionality Reduction\n",
    "2. Outlier Detection\n",
    "3. Clustering\n",
    "4. Association"
   ]
  },
  {
   "cell_type": "markdown",
   "metadata": {
    "slideshow": {
     "slide_type": "slide"
    }
   },
   "source": [
    "## 4.2.1 Dimensionality Reduction\n",
    "\n",
    "\n",
    "![](http://www.holehouse.org/mlclass/14_Dimensionality_Reduction_files/Image%20%5B1%5D.png)\n",
    "\n",
    "Source: Andrew Ng, Machine Learning"
   ]
  },
  {
   "cell_type": "markdown",
   "metadata": {
    "slideshow": {
     "slide_type": "fragment"
    }
   },
   "source": [
    "\n",
    "![](http://www.holehouse.org/mlclass/14_Dimensionality_Reduction_files/Image%20%5B10%5D.png)"
   ]
  },
  {
   "cell_type": "markdown",
   "metadata": {
    "slideshow": {
     "slide_type": "fragment"
    }
   },
   "source": [
    "Done using Principal Component Analysis (PCA)\n",
    "\n",
    "[Visualizing PCA](http://setosa.io/ev/principal-component-analysis/)"
   ]
  },
  {
   "cell_type": "markdown",
   "metadata": {
    "slideshow": {
     "slide_type": "slide"
    }
   },
   "source": [
    "# 4.2.2 Outlier Detection\n",
    "\n",
    "![](http://bp1.blogger.com/_x7QjiZypFj0/Rp9dcGTsBKI/AAAAAAAAAA0/VWwfWDv6nzM/s400/Outlier.jpg)"
   ]
  },
  {
   "cell_type": "markdown",
   "metadata": {
    "slideshow": {
     "slide_type": "fragment"
    }
   },
   "source": [
    "Comparing the local density of a point with the densities of its neighbors\n",
    "\n",
    "How Local Outlier Factor Algorithm works:\n",
    "\n",
    "![](https://upload.wikimedia.org/wikipedia/commons/thumb/4/4e/LOF-idea.svg/375px-LOF-idea.svg.png)\n",
    "\n"
   ]
  },
  {
   "cell_type": "markdown",
   "metadata": {
    "slideshow": {
     "slide_type": "slide"
    }
   },
   "source": [
    "# 4.2.3 Clustering\n",
    "\n",
    "Find natural groupings in data!\n",
    "\n",
    "![](http://datascienceguide.github.io/images/mark_vs_time_studying_clustered.png)\n",
    "\n"
   ]
  },
  {
   "cell_type": "markdown",
   "metadata": {
    "slideshow": {
     "slide_type": "subslide"
    }
   },
   "source": [
    "K means clustering:\n",
    "\n",
    "![](https://datasciencelab.files.wordpress.com/2013/12/p_n200_k3_g.gif?w=830)\n"
   ]
  },
  {
   "cell_type": "markdown",
   "metadata": {
    "slideshow": {
     "slide_type": "subslide"
    }
   },
   "source": [
    "Fuzzy C means Clustering\n",
    "\n",
    "[![](http://pythonhosted.org/scikit-fuzzy/_images/plot_cmeans_4.png)](http://pythonhosted.org/scikit-fuzzy/auto_examples/plot_cmeans.html)\n"
   ]
  },
  {
   "cell_type": "markdown",
   "metadata": {},
   "source": [
    "# Graph Clustering\n",
    "\n",
    "![](http://ascr-discovery.science.doe.gov/wp-content/uploads/2013/09/Sifting-Genomes-1.png)"
   ]
  },
  {
   "cell_type": "markdown",
   "metadata": {
    "collapsed": true
   },
   "source": [
    "\n",
    "### Hierarchical Clustering\n",
    "\n",
    "![](https://upload.wikimedia.org/wikipedia/commons/thumb/a/ad/Hierarchical_clustering_simple_diagram.svg/2000px-Hierarchical_clustering_simple_diagram.svg.png)\n",
    "\n",
    "### Canopy Clustering\n",
    "\n",
    "![](http://2.bp.blogspot.com/-CPemjTn74Lw/TbGlvWyRe3I/AAAAAAAAAjg/KEqmSN6v594/s1600/P1.png)\n",
    "\n",
    "### Self Organizing Maps (Advanced)\n",
    "\n",
    "![](http://pythonhosted.org/MLZ/_images/scheme2.png)\n",
    "\n",
    "### Topic Modeling\n",
    "\n",
    "![](http://www.scottbot.net/HIAL/wp-content/uploads/2011/11/IntroToLDA.png)\n",
    "\n"
   ]
  },
  {
   "cell_type": "markdown",
   "metadata": {
    "slideshow": {
     "slide_type": "subslide"
    }
   },
   "source": [
    "Clustering Algorithm Comparison\n",
    "========================================================\n",
    "\n",
    "\n",
    "There are many different algorithms which perform differently on different types of data\n",
    "\n",
    "\n",
    "[![](http://scikit-learn.org/stable/_images/plot_cluster_comparison_001.png)](http://scikit-learn.org/stable/auto_examples/cluster/plot_cluster_comparison.html)\n",
    "\n",
    "\n",
    "\n"
   ]
  },
  {
   "cell_type": "markdown",
   "metadata": {
    "slideshow": {
     "slide_type": "fragment"
    }
   },
   "source": [
    "Which is the best?\n",
    "\n",
    "No is no best algorithm which works for all sets of data, you have to try different algorithms and difference features and is an interative procedure as mentioned before."
   ]
  },
  {
   "cell_type": "markdown",
   "metadata": {
    "slideshow": {
     "slide_type": "fragment"
    }
   },
   "source": [
    "![](http://images.slideplayer.com/13/4043780/slides/slide_18.jpg)\n",
    "\n",
    "\n",
    "https://en.wikipedia.org/wiki/No_free_lunch_in_search_and_optimization"
   ]
  },
  {
   "cell_type": "markdown",
   "metadata": {},
   "source": [
    "### Clustering Performance Evaluation\n",
    "\n",
    "There is no fixed method, but there are some metrics\n",
    "\n",
    "You have visualize the clusters and see if they make sense!\n",
    "\n",
    "Further reading:\n",
    "\n",
    "http://scikit-learn.org/stable/modules/clustering.html#clustering-performance-evaluation"
   ]
  },
  {
   "cell_type": "markdown",
   "metadata": {
    "collapsed": true,
    "slideshow": {
     "slide_type": "subslide"
    }
   },
   "source": [
    "## 4.2.4 Association Rule Mining\n",
    "\n",
    "Based on a transactional database, what purchases are associated with each other?\n",
    "\n",
    "![](http://rayli.net/blog/wp-content/uploads/2015/05/shopping_database.jpg)\n",
    "\n",
    "![](http://www.abonyilab.com/_/rsrc/1405600876944/biclustering/bittable_rep_market_basket.png)\n",
    "\n",
    "\n",
    "![](http://www.saedsayad.com/images/AR_1.png)\n",
    "\n",
    "\n"
   ]
  },
  {
   "cell_type": "markdown",
   "metadata": {
    "slideshow": {
     "slide_type": "subslide"
    }
   },
   "source": [
    "A Priori Algorithm:\n",
    "\n",
    "![](https://webdocs.cs.ualberta.ca/~zaiane/courses/cmput499/slides/Lect10/img054.jpg)\n",
    "\n",
    "We know know item 2,3,5 are purchased togeather"
   ]
  },
  {
   "cell_type": "code",
   "execution_count": null,
   "metadata": {
    "collapsed": true
   },
   "outputs": [],
   "source": []
  },
  {
   "cell_type": "markdown",
   "metadata": {
    "slideshow": {
     "slide_type": "slide"
    }
   },
   "source": [
    "\n",
    "Ask > Acquire > Assimilate > ___Analyze___\n",
    "\n",
    "1. Exploratory Data Analysis\n",
    "Understand your data!\n",
    "2. Unsupervised Machine Learning\n",
    "Find natural groupings\n",
    "3. **Supervised Machine Learning**"
   ]
  },
  {
   "cell_type": "markdown",
   "metadata": {
    "slideshow": {
     "slide_type": "fragment"
    }
   },
   "source": [
    "1/ Regression    \n",
    "Numeric Prediction\n",
    "\n",
    "ie. What is the price of the house given its properties?\n",
    "\n",
    "2/ Classification     \n",
    "Identify set of categories\n",
    "\n",
    "ie. Is this email spam or ham given its contents?\n"
   ]
  },
  {
   "cell_type": "markdown",
   "metadata": {
    "slideshow": {
     "slide_type": "subslide"
    }
   },
   "source": [
    "## 4.3.1 Linear Regression\n",
    "\n",
    "Simple example:\n",
    "\n",
    "<div style=\"max-height:1000px;max-width:1500px;overflow:auto;\">\n",
    "<table border=\"1\" class=\"dataframe\">\n",
    "  <thead>\n",
    "    <tr style=\"text-align: right;\">\n",
    "      <th></th>\n",
    "      <th>x</th>\n",
    "      <th>y</th>\n",
    "    </tr>\n",
    "  </thead>\n",
    "  <tbody>\n",
    "    <tr>\n",
    "      <th>0 </th>\n",
    "      <td> 10</td>\n",
    "      <td>  8.04</td>\n",
    "    </tr>\n",
    "    <tr>\n",
    "      <th>1 </th>\n",
    "      <td>  8</td>\n",
    "      <td>  6.95</td>\n",
    "    </tr>\n",
    "    <tr>\n",
    "      <th>2 </th>\n",
    "      <td> 13</td>\n",
    "      <td>  7.58</td>\n",
    "    </tr>\n",
    "    <tr>\n",
    "      <th>3 </th>\n",
    "      <td>  9</td>\n",
    "      <td>  8.81</td>\n",
    "    </tr>\n",
    "    <tr>\n",
    "      <th>4 </th>\n",
    "      <td> 11</td>\n",
    "      <td>  8.33</td>\n",
    "    </tr>\n",
    "    <tr>\n",
    "      <th>5 </th>\n",
    "      <td> 14</td>\n",
    "      <td>  9.96</td>\n",
    "    </tr>\n",
    "    <tr>\n",
    "      <th>6 </th>\n",
    "      <td>  6</td>\n",
    "      <td>  7.24</td>\n",
    "    </tr>\n",
    "    <tr>\n",
    "      <th>7 </th>\n",
    "      <td>  4</td>\n",
    "      <td>  4.26</td>\n",
    "    </tr>\n",
    "    <tr>\n",
    "      <th>8 </th>\n",
    "      <td> 12</td>\n",
    "      <td> 10.84</td>\n",
    "    </tr>\n",
    "    <tr>\n",
    "      <th>9 </th>\n",
    "      <td>  7</td>\n",
    "      <td>  4.82</td>\n",
    "    </tr>\n",
    "    <tr>\n",
    "      <th>10</th>\n",
    "      <td>  5</td>\n",
    "      <td>  5.68</td>\n",
    "    </tr>\n",
    "  </tbody>\n",
    "</table>\n",
    "</div>\n",
    "\n",
    "The scatter plot looks like:\n",
    "\n",
    "![](http://datascienceguide.github.io/images/anscombe_i_scatter.png)\n",
    "\n",
    "We can now use simple least squares linear regression to fit a line:\n",
    "\n",
    "![](http://datascienceguide.github.io/images/anscombe_i_scatter_fitted_line.png)\n",
    "\n",
    "![](http://datascienceguide.github.io/images/anscombe_i_scatter_line_residuals.png)\n",
    "\n",
    "![](http://whipple_arrowsmith598.asu.edu/2008/DislocationExercise/rms.gif)\n",
    "\n",
    "You should not look simply at the RMS, you must look at the residuals and their distribution\n",
    "\n",
    "y - ŷ vs x  can now be plotted:\n",
    "\n",
    "![](http://datascienceguide.github.io/images/anscombe_i_residuals.png)\n",
    "\n",
    "We can now plot the residual distribution:\n",
    "\n",
    "![](http://datascienceguide.github.io/images/anscombe_i_scatter_line_residual_distribution.png)\n",
    "\n",
    "\n",
    "### More than One Feature:\n",
    "\n",
    "Multi-regression\n",
    "\n",
    "![](http://i.stack.imgur.com/PeX0r.png)\n",
    "\n",
    "![](http://ordination.okstate.edu/plane.jpg)\n"
   ]
  },
  {
   "cell_type": "markdown",
   "metadata": {
    "slideshow": {
     "slide_type": "subslide"
    }
   },
   "source": [
    "## Robust Regression\n",
    "\n",
    "Underfitting:\n",
    "\n",
    "![](http://i.imgur.com/14ygRFt.png)\n",
    "\n",
    "Good fit:\n",
    "\n",
    "![](http://i.imgur.com/oROr6CF.png)\n",
    "\n",
    "Overfitting\n",
    "\n",
    "![](http://i.imgur.com/vadI6k4.png)\n",
    "\n",
    "\n",
    "### Bias vs Variance Trade off\n",
    "\n",
    "\n",
    "![](http://www.holehouse.org/mlclass/10_Advice_for_applying_machine_learning_files/Image%20%5B8%5D.png)\n",
    "\n",
    "\n",
    "\n",
    "\n",
    "\n",
    "\n"
   ]
  },
  {
   "cell_type": "markdown",
   "metadata": {
    "slideshow": {
     "slide_type": "subslide"
    }
   },
   "source": [
    "![](http://ordination.okstate.edu/quadfit.jpg)"
   ]
  },
  {
   "cell_type": "markdown",
   "metadata": {
    "slideshow": {
     "slide_type": "subslide"
    }
   },
   "source": [
    "\n",
    "Other methods:\n",
    "\n",
    "![](http://scikit-learn.org/stable/_images/plot_regression_001.png)\n",
    "\n",
    "![](http://scikit-learn.org/stable/_images/plot_tree_regression_001.png)\n",
    "\n",
    "![](http://docs.opencv.org/2.4/_images/optimal-hyperplane.png)\n",
    "\n",
    "![](http://scikit-learn.org/stable/_images/plot_svm_regression_001.png)\n",
    "\n",
    "Piecewise Linear \n",
    "\n",
    "![](http://4.bp.blogspot.com/-Uw2oedKRgck/U6WiKJldDjI/AAAAAAAABFk/GSWxK310Ndo/s1600/Fig5p2+Piecewise-bp-in-1941-1974.gif) \n",
    "Piecewise Polynomial\n",
    "![](http://i.imgur.com/UZfytH6.png)\n",
    "\n",
    "\n",
    "First Example:\n",
    "\n",
    "![](http://datascienceguide.github.io/images/mark_vs_time_studying_regression.png)"
   ]
  },
  {
   "cell_type": "markdown",
   "metadata": {
    "slideshow": {
     "slide_type": "subslide"
    }
   },
   "source": [
    "### Model Selection Tradeoffs\n",
    "\n",
    "Which model to use?\n",
    "\n",
    "- Interpretability\n",
    "- Simplicity (aka parsimony)\n",
    "- Accuracy\n",
    "- speed (training, testing, and real-time processing)\n",
    "- Scalability\n",
    "\n",
    "\n",
    "General rule:\n",
    "\n",
    "Keep it simple!\n",
    "\n",
    "Use the simpliest model which gives good enough performance"
   ]
  },
  {
   "cell_type": "markdown",
   "metadata": {
    "slideshow": {
     "slide_type": "subslide"
    }
   },
   "source": [
    "# Cross Validation\n",
    "\n",
    "Hide some of the data!\n",
    "\n",
    "![](http://blogs.sas.com/content/jmp/files/2013/01/Cross-Validation.jpg)\n",
    "\n",
    "K-folds Cross Validation\n",
    "\n",
    "![](http://www.mdpi.com/sensors/sensors-12-12489/article_deploy/html/images/sensors-12-12489f7-1024.png)\n",
    "\n",
    "# Further Reading\n",
    "\n",
    "http://homes.cs.washington.edu/~pedrod/papers/cacm12.pdf\n",
    "\n"
   ]
  },
  {
   "cell_type": "markdown",
   "metadata": {
    "slideshow": {
     "slide_type": "subslide"
    }
   },
   "source": [
    "## Classification\n",
    "\n",
    "\n",
    "Scatter plot of Grade vs. Hours of Study\n",
    "\n",
    "|Hours of study | Grade|Class|\n",
    "|:-------------:|:----:|:----:|\n",
    "|6          | 85%|| Keener|\n",
    "|1          | 65%|| Slacker|\n",
    "|2          | 90%|| Genius|\n",
    "|...            |   ...|\n",
    "\n",
    "\n",
    "![](http://datascienceguide.github.io/images/mark_vs_time_studying_clustered.png)\n",
    "\n",
    "Simple Decision Tree\n",
    "\n",
    "![](http://datascienceguide.github.io/images/mark_vs_time_decision_tree.png)\n",
    "\n",
    "\n",
    "\n",
    "\n",
    "Logistic Regression:\n",
    "\n",
    "![](https://acom.azurecomcdn.net/80C57D/cdn/mediahandler/docarticles/dpsmedia-prod/azure.microsoft.com/en-us/documentation/articles/machine-learning-algorithm-choice/20160429050324/image4.png)\n",
    "\n",
    "Support Vector Machine:\n",
    "\n",
    "![](http://66.media.tumblr.com/0e459c9df3dc85c301ae41db5e058cb8/tumblr_inline_n9xq5hiRsC1rmpjcz.jpg)\n",
    "\n",
    "\n",
    "\n",
    "\n",
    "\n",
    "Difference techniques:\n",
    "- Logistic regression and multinomial regression\n",
    "- Decision tree, forest, and jungles\n",
    "- SVM (support vector machine)\n",
    "- Bayesian classifiers (e.g., Naive Bayes)\n",
    "- Nearest neighbor methods (e.g., k-NN or k-Nearest Neighbors)\n",
    "- Artificial Neural networks\n",
    "- Perceptron methods\n",
    "- One versus all multiclass\n",
    "\n",
    "![](http://scikit-learn.org/stable/_images/plot_classifier_comparison_001.png)\n"
   ]
  },
  {
   "cell_type": "markdown",
   "metadata": {
    "slideshow": {
     "slide_type": "subslide"
    }
   },
   "source": [
    "Model Evaluation for Classification:\n",
    "\n",
    "![](http://www.innoarchitech.com/content/images/2016/02/confmatriximage.png)\n",
    "\n",
    "\n",
    "# Further Reading\n",
    "\n",
    "http://www.saedsayad.com/model_evaluation_c.htm\n",
    "\n",
    "http://www.dataschool.io/simple-guide-to-confusion-matrix-terminology/\n",
    "\n",
    "https://en.wikipedia.org/wiki/Confusion_matrix\n",
    "\n"
   ]
  },
  {
   "cell_type": "markdown",
   "metadata": {
    "slideshow": {
     "slide_type": "subslide"
    }
   },
   "source": [
    "# Advanced Topics\n",
    "\n",
    "\n",
    "Boot strapping:\n",
    "\n",
    "![](https://www.safaribooksonline.com/library/view/python-machine-learning/9781783555130/graphics/3547_07_06.jpg)"
   ]
  },
  {
   "cell_type": "markdown",
   "metadata": {
    "slideshow": {
     "slide_type": "subslide"
    }
   },
   "source": [
    "![](http://image.slidesharecdn.com/ipbimprovingthemodelspredictivepowerwithensembleapproaches-121203224610-phpapp02/95/improving-the-models-predictive-power-with-ensemble-approaches-10-638.jpg?cb=1354575467)"
   ]
  },
  {
   "cell_type": "markdown",
   "metadata": {
    "slideshow": {
     "slide_type": "subslide"
    }
   },
   "source": [
    "## Grid Search:\n",
    "\n",
    "![](http://blog.kaggle.com/wp-content/uploads/2015/07/scikitlearn8.jpeg)"
   ]
  },
  {
   "cell_type": "markdown",
   "metadata": {},
   "source": [
    "Further Reading:\n",
    "\n",
    "\n",
    "http://mlwave.com/kaggle-ensembling-guide/\n",
    "\n",
    "\n",
    "https://medium.com/@chris_bour/6-tricks-i-learned-from-the-otto-kaggle-challenge-a9299378cd61#.3oz99o75e\n",
    "\n",
    "\n",
    "# Resources:\n",
    "\n",
    "Slides:  \n",
    "\n",
    "http://mrandrewandrade.com/talks/data-science-framework.slides.html\n",
    "\n",
    "Machine Learning Non Technical Guide (5 part series):  \n",
    "\n",
    "http://www.innoarchitech.com/machine-learning-an-in-depth-non-technical-guide/\n",
    "\n",
    "Field Guide to Data Science:\n",
    "https://www.boozallen.com/content/dam/boozallen/documents/2015/12/2015-FIeld-Guide-To-Data-Science.pdf\n",
    "\n",
    "Data Science Guide:\n",
    "http://datascienceguide.github.io/data-science-framework\n",
    "\n",
    "Code examples:\n",
    "http://nbviewer.jupyter.org/github/datascienceguide/datascienceguide.github.io/tree/master/tutorials/\n",
    "\n",
    "Example of a data science project:\n",
    "http://mrandrewandrade.com/research/presentations/paperscraper.pdf\n",
    "\n",
    "Introduction to Machine Learning With Scikit learn:\n",
    "http://scikit-learn.org/stable/tutorial/basic/tutorial.html\n",
    "\n",
    "\t\n",
    "Sci-kit Learn Tutorials:\n",
    "http://scikit-learn.org/stable/tutorial/index.html\n",
    "\n",
    "Sci-kit Learn User Guide:\n",
    "http://scikit-learn.org/stable/user_guide.html\n",
    "\n",
    "Flaw of Averages:\n",
    "http://probabilitymanagement.org/sip-math.html\n",
    "\n",
    "\n"
   ]
  }
 ],
 "metadata": {
  "celltoolbar": "Slideshow",
  "kernelspec": {
   "display_name": "Python 2",
   "language": "python",
   "name": "python2"
  },
  "language_info": {
   "codemirror_mode": {
    "name": "ipython",
    "version": 2
   },
   "file_extension": ".py",
   "mimetype": "text/x-python",
   "name": "python",
   "nbconvert_exporter": "python",
   "pygments_lexer": "ipython2",
   "version": "2.7.6"
  }
 },
 "nbformat": 4,
 "nbformat_minor": 0
}
